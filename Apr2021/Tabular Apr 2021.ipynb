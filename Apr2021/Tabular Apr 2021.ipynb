{
 "cells": [
  {
   "cell_type": "code",
   "execution_count": 1,
   "metadata": {},
   "outputs": [],
   "source": [
    "import pandas as pd\n",
    "import numpy as np\n",
    "import matplotlib.pyplot as plt\n",
    "import seaborn as sns"
   ]
  },
  {
   "cell_type": "markdown",
   "metadata": {},
   "source": [
    "Data taken from [Kaggle Tabular Playground Series](https://www.kaggle.com/c/tabular-playground-series-apr-2021)"
   ]
  },
  {
   "cell_type": "markdown",
   "metadata": {},
   "source": [
    "## Read in Data"
   ]
  },
  {
   "cell_type": "code",
   "execution_count": 2,
   "metadata": {},
   "outputs": [],
   "source": [
    "train = pd.read_csv(\"train.csv\")\n",
    "test = pd.read_csv(\"test.csv\")"
   ]
  },
  {
   "cell_type": "code",
   "execution_count": 3,
   "metadata": {},
   "outputs": [],
   "source": [
    "train_id = train[\"PassengerId\"]\n",
    "test_id = test[\"PassengerId\"]"
   ]
  },
  {
   "cell_type": "code",
   "execution_count": 4,
   "metadata": {},
   "outputs": [
    {
     "data": {
      "text/html": [
       "<div>\n",
       "<style scoped>\n",
       "    .dataframe tbody tr th:only-of-type {\n",
       "        vertical-align: middle;\n",
       "    }\n",
       "\n",
       "    .dataframe tbody tr th {\n",
       "        vertical-align: top;\n",
       "    }\n",
       "\n",
       "    .dataframe thead th {\n",
       "        text-align: right;\n",
       "    }\n",
       "</style>\n",
       "<table border=\"1\" class=\"dataframe\">\n",
       "  <thead>\n",
       "    <tr style=\"text-align: right;\">\n",
       "      <th></th>\n",
       "      <th>PassengerId</th>\n",
       "      <th>Survived</th>\n",
       "      <th>Pclass</th>\n",
       "      <th>Name</th>\n",
       "      <th>Sex</th>\n",
       "      <th>Age</th>\n",
       "      <th>SibSp</th>\n",
       "      <th>Parch</th>\n",
       "      <th>Ticket</th>\n",
       "      <th>Fare</th>\n",
       "      <th>Cabin</th>\n",
       "      <th>Embarked</th>\n",
       "    </tr>\n",
       "  </thead>\n",
       "  <tbody>\n",
       "    <tr>\n",
       "      <th>count</th>\n",
       "      <td>100000.000000</td>\n",
       "      <td>100000.000000</td>\n",
       "      <td>100000.000000</td>\n",
       "      <td>100000</td>\n",
       "      <td>100000</td>\n",
       "      <td>96708.000000</td>\n",
       "      <td>100000.000000</td>\n",
       "      <td>100000.000000</td>\n",
       "      <td>95377</td>\n",
       "      <td>99866.00000</td>\n",
       "      <td>32134</td>\n",
       "      <td>99750</td>\n",
       "    </tr>\n",
       "    <tr>\n",
       "      <th>unique</th>\n",
       "      <td>NaN</td>\n",
       "      <td>NaN</td>\n",
       "      <td>NaN</td>\n",
       "      <td>92144</td>\n",
       "      <td>2</td>\n",
       "      <td>NaN</td>\n",
       "      <td>NaN</td>\n",
       "      <td>NaN</td>\n",
       "      <td>75331</td>\n",
       "      <td>NaN</td>\n",
       "      <td>26992</td>\n",
       "      <td>3</td>\n",
       "    </tr>\n",
       "    <tr>\n",
       "      <th>top</th>\n",
       "      <td>NaN</td>\n",
       "      <td>NaN</td>\n",
       "      <td>NaN</td>\n",
       "      <td>Johnson, John</td>\n",
       "      <td>male</td>\n",
       "      <td>NaN</td>\n",
       "      <td>NaN</td>\n",
       "      <td>NaN</td>\n",
       "      <td>A/5</td>\n",
       "      <td>NaN</td>\n",
       "      <td>C19828</td>\n",
       "      <td>S</td>\n",
       "    </tr>\n",
       "    <tr>\n",
       "      <th>freq</th>\n",
       "      <td>NaN</td>\n",
       "      <td>NaN</td>\n",
       "      <td>NaN</td>\n",
       "      <td>31</td>\n",
       "      <td>56114</td>\n",
       "      <td>NaN</td>\n",
       "      <td>NaN</td>\n",
       "      <td>NaN</td>\n",
       "      <td>602</td>\n",
       "      <td>NaN</td>\n",
       "      <td>6</td>\n",
       "      <td>72139</td>\n",
       "    </tr>\n",
       "    <tr>\n",
       "      <th>mean</th>\n",
       "      <td>49999.500000</td>\n",
       "      <td>0.427740</td>\n",
       "      <td>2.106910</td>\n",
       "      <td>NaN</td>\n",
       "      <td>NaN</td>\n",
       "      <td>38.355472</td>\n",
       "      <td>0.397690</td>\n",
       "      <td>0.454560</td>\n",
       "      <td>NaN</td>\n",
       "      <td>43.92933</td>\n",
       "      <td>NaN</td>\n",
       "      <td>NaN</td>\n",
       "    </tr>\n",
       "    <tr>\n",
       "      <th>std</th>\n",
       "      <td>28867.657797</td>\n",
       "      <td>0.494753</td>\n",
       "      <td>0.837727</td>\n",
       "      <td>NaN</td>\n",
       "      <td>NaN</td>\n",
       "      <td>18.313556</td>\n",
       "      <td>0.862566</td>\n",
       "      <td>0.950076</td>\n",
       "      <td>NaN</td>\n",
       "      <td>69.58882</td>\n",
       "      <td>NaN</td>\n",
       "      <td>NaN</td>\n",
       "    </tr>\n",
       "    <tr>\n",
       "      <th>min</th>\n",
       "      <td>0.000000</td>\n",
       "      <td>0.000000</td>\n",
       "      <td>1.000000</td>\n",
       "      <td>NaN</td>\n",
       "      <td>NaN</td>\n",
       "      <td>0.080000</td>\n",
       "      <td>0.000000</td>\n",
       "      <td>0.000000</td>\n",
       "      <td>NaN</td>\n",
       "      <td>0.68000</td>\n",
       "      <td>NaN</td>\n",
       "      <td>NaN</td>\n",
       "    </tr>\n",
       "    <tr>\n",
       "      <th>25%</th>\n",
       "      <td>24999.750000</td>\n",
       "      <td>0.000000</td>\n",
       "      <td>1.000000</td>\n",
       "      <td>NaN</td>\n",
       "      <td>NaN</td>\n",
       "      <td>25.000000</td>\n",
       "      <td>0.000000</td>\n",
       "      <td>0.000000</td>\n",
       "      <td>NaN</td>\n",
       "      <td>10.04000</td>\n",
       "      <td>NaN</td>\n",
       "      <td>NaN</td>\n",
       "    </tr>\n",
       "    <tr>\n",
       "      <th>50%</th>\n",
       "      <td>49999.500000</td>\n",
       "      <td>0.000000</td>\n",
       "      <td>2.000000</td>\n",
       "      <td>NaN</td>\n",
       "      <td>NaN</td>\n",
       "      <td>39.000000</td>\n",
       "      <td>0.000000</td>\n",
       "      <td>0.000000</td>\n",
       "      <td>NaN</td>\n",
       "      <td>24.46000</td>\n",
       "      <td>NaN</td>\n",
       "      <td>NaN</td>\n",
       "    </tr>\n",
       "    <tr>\n",
       "      <th>75%</th>\n",
       "      <td>74999.250000</td>\n",
       "      <td>1.000000</td>\n",
       "      <td>3.000000</td>\n",
       "      <td>NaN</td>\n",
       "      <td>NaN</td>\n",
       "      <td>53.000000</td>\n",
       "      <td>1.000000</td>\n",
       "      <td>1.000000</td>\n",
       "      <td>NaN</td>\n",
       "      <td>33.50000</td>\n",
       "      <td>NaN</td>\n",
       "      <td>NaN</td>\n",
       "    </tr>\n",
       "    <tr>\n",
       "      <th>max</th>\n",
       "      <td>99999.000000</td>\n",
       "      <td>1.000000</td>\n",
       "      <td>3.000000</td>\n",
       "      <td>NaN</td>\n",
       "      <td>NaN</td>\n",
       "      <td>87.000000</td>\n",
       "      <td>8.000000</td>\n",
       "      <td>9.000000</td>\n",
       "      <td>NaN</td>\n",
       "      <td>744.66000</td>\n",
       "      <td>NaN</td>\n",
       "      <td>NaN</td>\n",
       "    </tr>\n",
       "  </tbody>\n",
       "</table>\n",
       "</div>"
      ],
      "text/plain": [
       "          PassengerId       Survived         Pclass           Name     Sex  \\\n",
       "count   100000.000000  100000.000000  100000.000000         100000  100000   \n",
       "unique            NaN            NaN            NaN          92144       2   \n",
       "top               NaN            NaN            NaN  Johnson, John    male   \n",
       "freq              NaN            NaN            NaN             31   56114   \n",
       "mean     49999.500000       0.427740       2.106910            NaN     NaN   \n",
       "std      28867.657797       0.494753       0.837727            NaN     NaN   \n",
       "min          0.000000       0.000000       1.000000            NaN     NaN   \n",
       "25%      24999.750000       0.000000       1.000000            NaN     NaN   \n",
       "50%      49999.500000       0.000000       2.000000            NaN     NaN   \n",
       "75%      74999.250000       1.000000       3.000000            NaN     NaN   \n",
       "max      99999.000000       1.000000       3.000000            NaN     NaN   \n",
       "\n",
       "                 Age          SibSp          Parch Ticket         Fare  \\\n",
       "count   96708.000000  100000.000000  100000.000000  95377  99866.00000   \n",
       "unique           NaN            NaN            NaN  75331          NaN   \n",
       "top              NaN            NaN            NaN   A/5           NaN   \n",
       "freq             NaN            NaN            NaN    602          NaN   \n",
       "mean       38.355472       0.397690       0.454560    NaN     43.92933   \n",
       "std        18.313556       0.862566       0.950076    NaN     69.58882   \n",
       "min         0.080000       0.000000       0.000000    NaN      0.68000   \n",
       "25%        25.000000       0.000000       0.000000    NaN     10.04000   \n",
       "50%        39.000000       0.000000       0.000000    NaN     24.46000   \n",
       "75%        53.000000       1.000000       1.000000    NaN     33.50000   \n",
       "max        87.000000       8.000000       9.000000    NaN    744.66000   \n",
       "\n",
       "         Cabin Embarked  \n",
       "count    32134    99750  \n",
       "unique   26992        3  \n",
       "top     C19828        S  \n",
       "freq         6    72139  \n",
       "mean       NaN      NaN  \n",
       "std        NaN      NaN  \n",
       "min        NaN      NaN  \n",
       "25%        NaN      NaN  \n",
       "50%        NaN      NaN  \n",
       "75%        NaN      NaN  \n",
       "max        NaN      NaN  "
      ]
     },
     "execution_count": 4,
     "metadata": {},
     "output_type": "execute_result"
    }
   ],
   "source": [
    "train.describe(include = \"all\")"
   ]
  },
  {
   "cell_type": "code",
   "execution_count": 5,
   "metadata": {},
   "outputs": [
    {
     "data": {
      "text/html": [
       "<div>\n",
       "<style scoped>\n",
       "    .dataframe tbody tr th:only-of-type {\n",
       "        vertical-align: middle;\n",
       "    }\n",
       "\n",
       "    .dataframe tbody tr th {\n",
       "        vertical-align: top;\n",
       "    }\n",
       "\n",
       "    .dataframe thead th {\n",
       "        text-align: right;\n",
       "    }\n",
       "</style>\n",
       "<table border=\"1\" class=\"dataframe\">\n",
       "  <thead>\n",
       "    <tr style=\"text-align: right;\">\n",
       "      <th></th>\n",
       "      <th>PassengerId</th>\n",
       "      <th>Pclass</th>\n",
       "      <th>Name</th>\n",
       "      <th>Sex</th>\n",
       "      <th>Age</th>\n",
       "      <th>SibSp</th>\n",
       "      <th>Parch</th>\n",
       "      <th>Ticket</th>\n",
       "      <th>Fare</th>\n",
       "      <th>Cabin</th>\n",
       "      <th>Embarked</th>\n",
       "    </tr>\n",
       "  </thead>\n",
       "  <tbody>\n",
       "    <tr>\n",
       "      <th>count</th>\n",
       "      <td>100000.000000</td>\n",
       "      <td>100000.000000</td>\n",
       "      <td>100000</td>\n",
       "      <td>100000</td>\n",
       "      <td>96513.000000</td>\n",
       "      <td>100000.000000</td>\n",
       "      <td>100000.00000</td>\n",
       "      <td>94819</td>\n",
       "      <td>99867.000000</td>\n",
       "      <td>29169</td>\n",
       "      <td>99723</td>\n",
       "    </tr>\n",
       "    <tr>\n",
       "      <th>unique</th>\n",
       "      <td>NaN</td>\n",
       "      <td>NaN</td>\n",
       "      <td>90808</td>\n",
       "      <td>2</td>\n",
       "      <td>NaN</td>\n",
       "      <td>NaN</td>\n",
       "      <td>NaN</td>\n",
       "      <td>75432</td>\n",
       "      <td>NaN</td>\n",
       "      <td>25216</td>\n",
       "      <td>3</td>\n",
       "    </tr>\n",
       "    <tr>\n",
       "      <th>top</th>\n",
       "      <td>NaN</td>\n",
       "      <td>NaN</td>\n",
       "      <td>Smith, James</td>\n",
       "      <td>male</td>\n",
       "      <td>NaN</td>\n",
       "      <td>NaN</td>\n",
       "      <td>NaN</td>\n",
       "      <td>SC/PARIS</td>\n",
       "      <td>NaN</td>\n",
       "      <td>B13288</td>\n",
       "      <td>S</td>\n",
       "    </tr>\n",
       "    <tr>\n",
       "      <th>freq</th>\n",
       "      <td>NaN</td>\n",
       "      <td>NaN</td>\n",
       "      <td>37</td>\n",
       "      <td>69757</td>\n",
       "      <td>NaN</td>\n",
       "      <td>NaN</td>\n",
       "      <td>NaN</td>\n",
       "      <td>163</td>\n",
       "      <td>NaN</td>\n",
       "      <td>5</td>\n",
       "      <td>68842</td>\n",
       "    </tr>\n",
       "    <tr>\n",
       "      <th>mean</th>\n",
       "      <td>149999.500000</td>\n",
       "      <td>2.368930</td>\n",
       "      <td>NaN</td>\n",
       "      <td>NaN</td>\n",
       "      <td>30.565796</td>\n",
       "      <td>0.486550</td>\n",
       "      <td>0.49283</td>\n",
       "      <td>NaN</td>\n",
       "      <td>45.374804</td>\n",
       "      <td>NaN</td>\n",
       "      <td>NaN</td>\n",
       "    </tr>\n",
       "    <tr>\n",
       "      <th>std</th>\n",
       "      <td>28867.657797</td>\n",
       "      <td>0.878458</td>\n",
       "      <td>NaN</td>\n",
       "      <td>NaN</td>\n",
       "      <td>14.054634</td>\n",
       "      <td>0.771262</td>\n",
       "      <td>0.92360</td>\n",
       "      <td>NaN</td>\n",
       "      <td>65.204725</td>\n",
       "      <td>NaN</td>\n",
       "      <td>NaN</td>\n",
       "    </tr>\n",
       "    <tr>\n",
       "      <th>min</th>\n",
       "      <td>100000.000000</td>\n",
       "      <td>1.000000</td>\n",
       "      <td>NaN</td>\n",
       "      <td>NaN</td>\n",
       "      <td>0.080000</td>\n",
       "      <td>0.000000</td>\n",
       "      <td>0.00000</td>\n",
       "      <td>NaN</td>\n",
       "      <td>0.050000</td>\n",
       "      <td>NaN</td>\n",
       "      <td>NaN</td>\n",
       "    </tr>\n",
       "    <tr>\n",
       "      <th>25%</th>\n",
       "      <td>124999.750000</td>\n",
       "      <td>1.000000</td>\n",
       "      <td>NaN</td>\n",
       "      <td>NaN</td>\n",
       "      <td>21.000000</td>\n",
       "      <td>0.000000</td>\n",
       "      <td>0.00000</td>\n",
       "      <td>NaN</td>\n",
       "      <td>10.130000</td>\n",
       "      <td>NaN</td>\n",
       "      <td>NaN</td>\n",
       "    </tr>\n",
       "    <tr>\n",
       "      <th>50%</th>\n",
       "      <td>149999.500000</td>\n",
       "      <td>3.000000</td>\n",
       "      <td>NaN</td>\n",
       "      <td>NaN</td>\n",
       "      <td>27.000000</td>\n",
       "      <td>0.000000</td>\n",
       "      <td>0.00000</td>\n",
       "      <td>NaN</td>\n",
       "      <td>13.980000</td>\n",
       "      <td>NaN</td>\n",
       "      <td>NaN</td>\n",
       "    </tr>\n",
       "    <tr>\n",
       "      <th>75%</th>\n",
       "      <td>174999.250000</td>\n",
       "      <td>3.000000</td>\n",
       "      <td>NaN</td>\n",
       "      <td>NaN</td>\n",
       "      <td>40.000000</td>\n",
       "      <td>1.000000</td>\n",
       "      <td>1.00000</td>\n",
       "      <td>NaN</td>\n",
       "      <td>37.390000</td>\n",
       "      <td>NaN</td>\n",
       "      <td>NaN</td>\n",
       "    </tr>\n",
       "    <tr>\n",
       "      <th>max</th>\n",
       "      <td>199999.000000</td>\n",
       "      <td>3.000000</td>\n",
       "      <td>NaN</td>\n",
       "      <td>NaN</td>\n",
       "      <td>81.000000</td>\n",
       "      <td>8.000000</td>\n",
       "      <td>9.00000</td>\n",
       "      <td>NaN</td>\n",
       "      <td>680.700000</td>\n",
       "      <td>NaN</td>\n",
       "      <td>NaN</td>\n",
       "    </tr>\n",
       "  </tbody>\n",
       "</table>\n",
       "</div>"
      ],
      "text/plain": [
       "          PassengerId         Pclass          Name     Sex           Age  \\\n",
       "count   100000.000000  100000.000000        100000  100000  96513.000000   \n",
       "unique            NaN            NaN         90808       2           NaN   \n",
       "top               NaN            NaN  Smith, James    male           NaN   \n",
       "freq              NaN            NaN            37   69757           NaN   \n",
       "mean    149999.500000       2.368930           NaN     NaN     30.565796   \n",
       "std      28867.657797       0.878458           NaN     NaN     14.054634   \n",
       "min     100000.000000       1.000000           NaN     NaN      0.080000   \n",
       "25%     124999.750000       1.000000           NaN     NaN     21.000000   \n",
       "50%     149999.500000       3.000000           NaN     NaN     27.000000   \n",
       "75%     174999.250000       3.000000           NaN     NaN     40.000000   \n",
       "max     199999.000000       3.000000           NaN     NaN     81.000000   \n",
       "\n",
       "                SibSp         Parch     Ticket          Fare   Cabin Embarked  \n",
       "count   100000.000000  100000.00000      94819  99867.000000   29169    99723  \n",
       "unique            NaN           NaN      75432           NaN   25216        3  \n",
       "top               NaN           NaN  SC/PARIS            NaN  B13288        S  \n",
       "freq              NaN           NaN        163           NaN       5    68842  \n",
       "mean         0.486550       0.49283        NaN     45.374804     NaN      NaN  \n",
       "std          0.771262       0.92360        NaN     65.204725     NaN      NaN  \n",
       "min          0.000000       0.00000        NaN      0.050000     NaN      NaN  \n",
       "25%          0.000000       0.00000        NaN     10.130000     NaN      NaN  \n",
       "50%          0.000000       0.00000        NaN     13.980000     NaN      NaN  \n",
       "75%          1.000000       1.00000        NaN     37.390000     NaN      NaN  \n",
       "max          8.000000       9.00000        NaN    680.700000     NaN      NaN  "
      ]
     },
     "execution_count": 5,
     "metadata": {},
     "output_type": "execute_result"
    }
   ],
   "source": [
    "test.describe(include = \"all\")"
   ]
  },
  {
   "cell_type": "code",
   "execution_count": 6,
   "metadata": {},
   "outputs": [
    {
     "name": "stdout",
     "output_type": "stream",
     "text": [
      "PassengerId    0.00000\n",
      "Survived       0.00000\n",
      "Pclass         0.00000\n",
      "Name           0.00000\n",
      "Sex            0.00000\n",
      "Age            0.03292\n",
      "SibSp          0.00000\n",
      "Parch          0.00000\n",
      "Ticket         0.04623\n",
      "Fare           0.00134\n",
      "Cabin          0.67866\n",
      "Embarked       0.00250\n",
      "dtype: float64\n"
     ]
    }
   ],
   "source": [
    "percent_train_missing = train.isna().sum() / 100000\n",
    "print(percent_train_missing)"
   ]
  },
  {
   "cell_type": "code",
   "execution_count": 7,
   "metadata": {},
   "outputs": [
    {
     "name": "stdout",
     "output_type": "stream",
     "text": [
      "PassengerId    0.00000\n",
      "Pclass         0.00000\n",
      "Name           0.00000\n",
      "Sex            0.00000\n",
      "Age            0.03487\n",
      "SibSp          0.00000\n",
      "Parch          0.00000\n",
      "Ticket         0.05181\n",
      "Fare           0.00133\n",
      "Cabin          0.70831\n",
      "Embarked       0.00277\n",
      "dtype: float64\n"
     ]
    }
   ],
   "source": [
    "percent_test_missing = test.isna().sum() / 100000\n",
    "print(percent_test_missing)"
   ]
  },
  {
   "cell_type": "markdown",
   "metadata": {},
   "source": [
    "Cabin is missing a majority of the observations so we will drop Cabin. Also drop PassengerId since it is not important and we saved the values already to use later."
   ]
  },
  {
   "cell_type": "code",
   "execution_count": 8,
   "metadata": {},
   "outputs": [],
   "source": [
    "train.drop([\"Cabin\", \"PassengerId\"], axis = 1, inplace = True)\n",
    "test.drop([\"Cabin\", \"PassengerId\"], axis = 1, inplace = True)"
   ]
  },
  {
   "cell_type": "code",
   "execution_count": 9,
   "metadata": {},
   "outputs": [
    {
     "data": {
      "text/html": [
       "<div>\n",
       "<style scoped>\n",
       "    .dataframe tbody tr th:only-of-type {\n",
       "        vertical-align: middle;\n",
       "    }\n",
       "\n",
       "    .dataframe tbody tr th {\n",
       "        vertical-align: top;\n",
       "    }\n",
       "\n",
       "    .dataframe thead th {\n",
       "        text-align: right;\n",
       "    }\n",
       "</style>\n",
       "<table border=\"1\" class=\"dataframe\">\n",
       "  <thead>\n",
       "    <tr style=\"text-align: right;\">\n",
       "      <th></th>\n",
       "      <th>Survived</th>\n",
       "      <th>Pclass</th>\n",
       "      <th>Name</th>\n",
       "      <th>Sex</th>\n",
       "      <th>Age</th>\n",
       "      <th>SibSp</th>\n",
       "      <th>Parch</th>\n",
       "      <th>Ticket</th>\n",
       "      <th>Fare</th>\n",
       "      <th>Embarked</th>\n",
       "    </tr>\n",
       "  </thead>\n",
       "  <tbody>\n",
       "    <tr>\n",
       "      <th>0</th>\n",
       "      <td>1</td>\n",
       "      <td>1</td>\n",
       "      <td>Oconnor, Frankie</td>\n",
       "      <td>male</td>\n",
       "      <td>NaN</td>\n",
       "      <td>2</td>\n",
       "      <td>0</td>\n",
       "      <td>209245</td>\n",
       "      <td>27.14</td>\n",
       "      <td>S</td>\n",
       "    </tr>\n",
       "    <tr>\n",
       "      <th>1</th>\n",
       "      <td>0</td>\n",
       "      <td>3</td>\n",
       "      <td>Bryan, Drew</td>\n",
       "      <td>male</td>\n",
       "      <td>NaN</td>\n",
       "      <td>0</td>\n",
       "      <td>0</td>\n",
       "      <td>27323</td>\n",
       "      <td>13.35</td>\n",
       "      <td>S</td>\n",
       "    </tr>\n",
       "    <tr>\n",
       "      <th>2</th>\n",
       "      <td>0</td>\n",
       "      <td>3</td>\n",
       "      <td>Owens, Kenneth</td>\n",
       "      <td>male</td>\n",
       "      <td>0.33</td>\n",
       "      <td>1</td>\n",
       "      <td>2</td>\n",
       "      <td>CA 457703</td>\n",
       "      <td>71.29</td>\n",
       "      <td>S</td>\n",
       "    </tr>\n",
       "    <tr>\n",
       "      <th>3</th>\n",
       "      <td>0</td>\n",
       "      <td>3</td>\n",
       "      <td>Kramer, James</td>\n",
       "      <td>male</td>\n",
       "      <td>19.00</td>\n",
       "      <td>0</td>\n",
       "      <td>0</td>\n",
       "      <td>A. 10866</td>\n",
       "      <td>13.04</td>\n",
       "      <td>S</td>\n",
       "    </tr>\n",
       "    <tr>\n",
       "      <th>4</th>\n",
       "      <td>1</td>\n",
       "      <td>3</td>\n",
       "      <td>Bond, Michael</td>\n",
       "      <td>male</td>\n",
       "      <td>25.00</td>\n",
       "      <td>0</td>\n",
       "      <td>0</td>\n",
       "      <td>427635</td>\n",
       "      <td>7.76</td>\n",
       "      <td>S</td>\n",
       "    </tr>\n",
       "  </tbody>\n",
       "</table>\n",
       "</div>"
      ],
      "text/plain": [
       "   Survived  Pclass              Name   Sex    Age  SibSp  Parch     Ticket  \\\n",
       "0         1       1  Oconnor, Frankie  male    NaN      2      0     209245   \n",
       "1         0       3       Bryan, Drew  male    NaN      0      0      27323   \n",
       "2         0       3    Owens, Kenneth  male   0.33      1      2  CA 457703   \n",
       "3         0       3     Kramer, James  male  19.00      0      0   A. 10866   \n",
       "4         1       3     Bond, Michael  male  25.00      0      0     427635   \n",
       "\n",
       "    Fare Embarked  \n",
       "0  27.14        S  \n",
       "1  13.35        S  \n",
       "2  71.29        S  \n",
       "3  13.04        S  \n",
       "4   7.76        S  "
      ]
     },
     "execution_count": 9,
     "metadata": {},
     "output_type": "execute_result"
    }
   ],
   "source": [
    "train.head()"
   ]
  },
  {
   "cell_type": "code",
   "execution_count": 10,
   "metadata": {},
   "outputs": [],
   "source": [
    "train[\"family_size\"] = train[\"SibSp\"] + train[\"Parch\"]\n",
    "test[\"family_size\"] = test[\"SibSp\"] + test[\"Parch\"]\n",
    "\n",
    "train.drop(\"Name\", axis = 1, inplace = True)\n",
    "test.drop(\"Name\", axis = 1, inplace = True)"
   ]
  },
  {
   "cell_type": "code",
   "execution_count": 11,
   "metadata": {},
   "outputs": [
    {
     "name": "stdout",
     "output_type": "stream",
     "text": [
      "<class 'pandas.core.frame.DataFrame'>\n",
      "RangeIndex: 100000 entries, 0 to 99999\n",
      "Data columns (total 10 columns):\n",
      " #   Column       Non-Null Count   Dtype  \n",
      "---  ------       --------------   -----  \n",
      " 0   Survived     100000 non-null  int64  \n",
      " 1   Pclass       100000 non-null  int64  \n",
      " 2   Sex          100000 non-null  object \n",
      " 3   Age          96708 non-null   float64\n",
      " 4   SibSp        100000 non-null  int64  \n",
      " 5   Parch        100000 non-null  int64  \n",
      " 6   Ticket       95377 non-null   object \n",
      " 7   Fare         99866 non-null   float64\n",
      " 8   Embarked     99750 non-null   object \n",
      " 9   family_size  100000 non-null  int64  \n",
      "dtypes: float64(2), int64(5), object(3)\n",
      "memory usage: 7.6+ MB\n"
     ]
    }
   ],
   "source": [
    "train.info()"
   ]
  },
  {
   "cell_type": "markdown",
   "metadata": {},
   "source": [
    "## Data Exploration"
   ]
  },
  {
   "cell_type": "markdown",
   "metadata": {},
   "source": [
    "Goal is to clean missing data."
   ]
  },
  {
   "cell_type": "code",
   "execution_count": 12,
   "metadata": {},
   "outputs": [
    {
     "data": {
      "text/plain": [
       "<AxesSubplot:xlabel='Age', ylabel='Count'>"
      ]
     },
     "execution_count": 12,
     "metadata": {},
     "output_type": "execute_result"
    },
    {
     "data": {
      "image/png": "[encoded data removed]",
      "text/plain": [
       "<Figure size 432x288 with 1 Axes>"
      ]
     },
     "metadata": {
      "needs_background": "light"
     },
     "output_type": "display_data"
    }
   ],
   "source": [
    "sns.histplot(x = train[\"Age\"], bins = 15)"
   ]
  },
  {
   "cell_type": "markdown",
   "metadata": {},
   "source": [
    "We will impute with the median of Age later once we start modeling."
   ]
  },
  {
   "cell_type": "code",
   "execution_count": 13,
   "metadata": {},
   "outputs": [
    {
     "data": {
      "text/plain": [
       "0           209245\n",
       "1            27323\n",
       "2        CA 457703\n",
       "3         A. 10866\n",
       "4           427635\n",
       "           ...    \n",
       "99995     PC 15008\n",
       "99996        13273\n",
       "99997          NaN\n",
       "99998       458654\n",
       "99999       458074\n",
       "Name: Ticket, Length: 100000, dtype: object"
      ]
     },
     "execution_count": 13,
     "metadata": {},
     "output_type": "execute_result"
    }
   ],
   "source": [
    "train[\"Ticket\"]"
   ]
  },
  {
   "cell_type": "markdown",
   "metadata": {},
   "source": [
    "Ticket does not seem like it shows much useful information so we will drop it."
   ]
  },
  {
   "cell_type": "code",
   "execution_count": 14,
   "metadata": {},
   "outputs": [],
   "source": [
    "train.drop(\"Ticket\", axis = 1, inplace = True)\n",
    "test.drop(\"Ticket\", axis = 1, inplace = True)"
   ]
  },
  {
   "cell_type": "code",
   "execution_count": 15,
   "metadata": {},
   "outputs": [
    {
     "data": {
      "text/plain": [
       "<AxesSubplot:xlabel='Embarked', ylabel='count'>"
      ]
     },
     "execution_count": 15,
     "metadata": {},
     "output_type": "execute_result"
    },
    {
     "data": {
      "image/png": "[encoded data removed]",
      "text/plain": [
       "<Figure size 432x288 with 1 Axes>"
      ]
     },
     "metadata": {
      "needs_background": "light"
     },
     "output_type": "display_data"
    }
   ],
   "source": [
    "sns.countplot(x = train[\"Embarked\"])"
   ]
  },
  {
   "cell_type": "markdown",
   "metadata": {},
   "source": [
    "We will impute missing values of Embarked using the most frequent class and sklearn."
   ]
  },
  {
   "cell_type": "code",
   "execution_count": 16,
   "metadata": {},
   "outputs": [
    {
     "data": {
      "text/plain": [
       "<AxesSubplot:xlabel='Fare', ylabel='Count'>"
      ]
     },
     "execution_count": 16,
     "metadata": {},
     "output_type": "execute_result"
    },
    {
     "data": {
      "image/png": "[encoded data removed]",
      "text/plain": [
       "<Figure size 432x288 with 1 Axes>"
      ]
     },
     "metadata": {
      "needs_background": "light"
     },
     "output_type": "display_data"
    }
   ],
   "source": [
    "sns.histplot(x = train[\"Fare\"])"
   ]
  },
  {
   "cell_type": "markdown",
   "metadata": {},
   "source": [
    "Also impute these values with the median."
   ]
  },
  {
   "cell_type": "markdown",
   "metadata": {},
   "source": [
    "## Modeling"
   ]
  },
  {
   "cell_type": "code",
   "execution_count": 17,
   "metadata": {},
   "outputs": [
    {
     "name": "stdout",
     "output_type": "stream",
     "text": [
      "<class 'pandas.core.frame.DataFrame'>\n",
      "RangeIndex: 100000 entries, 0 to 99999\n",
      "Data columns (total 9 columns):\n",
      " #   Column       Non-Null Count   Dtype  \n",
      "---  ------       --------------   -----  \n",
      " 0   Survived     100000 non-null  int64  \n",
      " 1   Pclass       100000 non-null  int64  \n",
      " 2   Sex          100000 non-null  object \n",
      " 3   Age          96708 non-null   float64\n",
      " 4   SibSp        100000 non-null  int64  \n",
      " 5   Parch        100000 non-null  int64  \n",
      " 6   Fare         99866 non-null   float64\n",
      " 7   Embarked     99750 non-null   object \n",
      " 8   family_size  100000 non-null  int64  \n",
      "dtypes: float64(2), int64(5), object(2)\n",
      "memory usage: 6.9+ MB\n"
     ]
    }
   ],
   "source": [
    "train.info()"
   ]
  },
  {
   "cell_type": "code",
   "execution_count": 18,
   "metadata": {},
   "outputs": [],
   "source": [
    "from sklearn.preprocessing import OneHotEncoder\n",
    "from sklearn.impute import SimpleImputer\n",
    "from sklearn.impute import KNNImputer\n",
    "from sklearn.pipeline import Pipeline\n",
    "from sklearn.model_selection import train_test_split\n",
    "from sklearn.model_selection import GridSearchCV\n",
    "from sklearn.metrics import accuracy_score\n",
    "from sklearn.metrics import classification_report\n",
    "from sklearn.metrics import confusion_matrix\n",
    "from sklearn.compose import ColumnTransformer\n",
    "from xgboost import XGBClassifier"
   ]
  },
  {
   "cell_type": "code",
   "execution_count": 19,
   "metadata": {},
   "outputs": [],
   "source": [
    "X = train.drop(\"Survived\", axis = 1)\n",
    "y = train[\"Survived\"]\n",
    "\n",
    "X_train, X_val, y_train, y_val = train_test_split(X, y, test_size = 0.33, random_state = 42)"
   ]
  },
  {
   "cell_type": "code",
   "execution_count": 20,
   "metadata": {},
   "outputs": [],
   "source": [
    "cat_preprocess = Pipeline([\n",
    "    (\"imputer_cat\", SimpleImputer(strategy = \"most_frequent\")),\n",
    "    (\"one_hot\", OneHotEncoder())\n",
    "])\n",
    "\n",
    "preprocessor = ColumnTransformer([\n",
    "    (\"impute_numeric\", SimpleImputer(strategy = \"median\"), [\"Age\", \"Fare\"]),\n",
    "    (\"cat\", cat_preprocess, [\"Embarked\", \"Sex\"])\n",
    "])"
   ]
  },
  {
   "cell_type": "code",
   "execution_count": 21,
   "metadata": {},
   "outputs": [],
   "source": [
    "pipeline = Pipeline([\n",
    "    (\"preprocess\", preprocessor),\n",
    "    (\"model\", XGBClassifier(tree_method = \"gpu_hist\", gpu_id = 0))\n",
    "])"
   ]
  },
  {
   "cell_type": "code",
   "execution_count": 22,
   "metadata": {},
   "outputs": [
    {
     "data": {
      "text/plain": [
       "dict_keys(['objective', 'use_label_encoder', 'base_score', 'booster', 'colsample_bylevel', 'colsample_bynode', 'colsample_bytree', 'gamma', 'gpu_id', 'importance_type', 'interaction_constraints', 'learning_rate', 'max_delta_step', 'max_depth', 'min_child_weight', 'missing', 'monotone_constraints', 'n_estimators', 'n_jobs', 'num_parallel_tree', 'random_state', 'reg_alpha', 'reg_lambda', 'scale_pos_weight', 'subsample', 'tree_method', 'validate_parameters', 'verbosity'])"
      ]
     },
     "execution_count": 22,
     "metadata": {},
     "output_type": "execute_result"
    }
   ],
   "source": [
    "XGBClassifier().get_params().keys()"
   ]
  },
  {
   "cell_type": "code",
   "execution_count": 23,
   "metadata": {},
   "outputs": [],
   "source": [
    "xgboost_grid = {\n",
    "    \"model__n_estimators\": [100, 250, 500],\n",
    "    \"model__max_depth\": [3, 4, 5, 6],\n",
    "    \"model__learning_rate\": [0.1, 0.05, 0.01],\n",
    "    \"model__subsample\": [0.8, 0.9, 1],\n",
    "    \"model__colsample_bytree\": [0.8, 0.9, 1],\n",
    "    \"model__gamma\": [0, 1, 5],\n",
    "    \"model__use_label_encoder\": [False],\n",
    "    \"model__eval_metric\": [\"logloss\"]\n",
    "}"
   ]
  },
  {
   "cell_type": "code",
   "execution_count": 24,
   "metadata": {},
   "outputs": [],
   "source": [
    "clf = GridSearchCV(pipeline, param_grid = xgboost_grid, cv = 3)"
   ]
  },
  {
   "cell_type": "code",
   "execution_count": 25,
   "metadata": {},
   "outputs": [
    {
     "data": {
      "text/plain": [
       "GridSearchCV(cv=3,\n",
       "             estimator=Pipeline(steps=[('preprocess',\n",
       "                                        ColumnTransformer(transformers=[('impute_numeric',\n",
       "                                                                         SimpleImputer(strategy='median'),\n",
       "                                                                         ['Age',\n",
       "                                                                          'Fare']),\n",
       "                                                                        ('cat',\n",
       "                                                                         Pipeline(steps=[('imputer_cat',\n",
       "                                                                                          SimpleImputer(strategy='most_frequent')),\n",
       "                                                                                         ('one_hot',\n",
       "                                                                                          OneHotEncoder())]),\n",
       "                                                                         ['Embarked',\n",
       "                                                                          'Sex'])])),\n",
       "                                       ('model',\n",
       "                                        XGBClassifier(base_score=None,\n",
       "                                                      booster=None,\n",
       "                                                      colsample...\n",
       "                                                      subsample=None,\n",
       "                                                      tree_method='gpu_hist',\n",
       "                                                      validate_parameters=None,\n",
       "                                                      verbosity=None))]),\n",
       "             param_grid={'model__colsample_bytree': [0.8, 0.9, 1],\n",
       "                         'model__eval_metric': ['logloss'],\n",
       "                         'model__gamma': [0, 1, 5],\n",
       "                         'model__learning_rate': [0.1, 0.05, 0.01],\n",
       "                         'model__max_depth': [3, 4, 5, 6],\n",
       "                         'model__n_estimators': [100, 250, 500],\n",
       "                         'model__subsample': [0.8, 0.9, 1],\n",
       "                         'model__use_label_encoder': [False]})"
      ]
     },
     "execution_count": 25,
     "metadata": {},
     "output_type": "execute_result"
    }
   ],
   "source": [
    "clf"
   ]
  },
  {
   "cell_type": "code",
   "execution_count": 26,
   "metadata": {},
   "outputs": [
    {
     "data": {
      "text/plain": [
       "GridSearchCV(cv=3,\n",
       "             estimator=Pipeline(steps=[('preprocess',\n",
       "                                        ColumnTransformer(transformers=[('impute_numeric',\n",
       "                                                                         SimpleImputer(strategy='median'),\n",
       "                                                                         ['Age',\n",
       "                                                                          'Fare']),\n",
       "                                                                        ('cat',\n",
       "                                                                         Pipeline(steps=[('imputer_cat',\n",
       "                                                                                          SimpleImputer(strategy='most_frequent')),\n",
       "                                                                                         ('one_hot',\n",
       "                                                                                          OneHotEncoder())]),\n",
       "                                                                         ['Embarked',\n",
       "                                                                          'Sex'])])),\n",
       "                                       ('model',\n",
       "                                        XGBClassifier(base_score=None,\n",
       "                                                      booster=None,\n",
       "                                                      colsample...\n",
       "                                                      subsample=None,\n",
       "                                                      tree_method='gpu_hist',\n",
       "                                                      validate_parameters=None,\n",
       "                                                      verbosity=None))]),\n",
       "             param_grid={'model__colsample_bytree': [0.8, 0.9, 1],\n",
       "                         'model__eval_metric': ['logloss'],\n",
       "                         'model__gamma': [0, 1, 5],\n",
       "                         'model__learning_rate': [0.1, 0.05, 0.01],\n",
       "                         'model__max_depth': [3, 4, 5, 6],\n",
       "                         'model__n_estimators': [100, 250, 500],\n",
       "                         'model__subsample': [0.8, 0.9, 1],\n",
       "                         'model__use_label_encoder': [False]})"
      ]
     },
     "execution_count": 26,
     "metadata": {},
     "output_type": "execute_result"
    }
   ],
   "source": [
    "clf.fit(X_train, y_train)"
   ]
  },
  {
   "cell_type": "code",
   "execution_count": 27,
   "metadata": {},
   "outputs": [
    {
     "data": {
      "text/plain": [
       "{'model__colsample_bytree': 1,\n",
       " 'model__eval_metric': 'logloss',\n",
       " 'model__gamma': 1,\n",
       " 'model__learning_rate': 0.05,\n",
       " 'model__max_depth': 5,\n",
       " 'model__n_estimators': 100,\n",
       " 'model__subsample': 0.8,\n",
       " 'model__use_label_encoder': False}"
      ]
     },
     "execution_count": 27,
     "metadata": {},
     "output_type": "execute_result"
    }
   ],
   "source": [
    "clf.best_params_"
   ]
  },
  {
   "cell_type": "code",
   "execution_count": 28,
   "metadata": {},
   "outputs": [],
   "source": [
    "y_val_preds = clf.predict(X_val)"
   ]
  },
  {
   "cell_type": "code",
   "execution_count": 29,
   "metadata": {},
   "outputs": [
    {
     "data": {
      "text/plain": [
       "0.7662727272727273"
      ]
     },
     "execution_count": 29,
     "metadata": {},
     "output_type": "execute_result"
    }
   ],
   "source": [
    "accuracy_score(y_val, y_val_preds)"
   ]
  },
  {
   "cell_type": "code",
   "execution_count": 30,
   "metadata": {},
   "outputs": [
    {
     "name": "stdout",
     "output_type": "stream",
     "text": [
      "[[14499  4446]\n",
      " [ 3267 10788]]\n"
     ]
    }
   ],
   "source": [
    "print(confusion_matrix(y_val, y_val_preds))"
   ]
  },
  {
   "cell_type": "code",
   "execution_count": 31,
   "metadata": {},
   "outputs": [
    {
     "name": "stdout",
     "output_type": "stream",
     "text": [
      "              precision    recall  f1-score   support\n",
      "\n",
      "           0       0.82      0.77      0.79     18945\n",
      "           1       0.71      0.77      0.74     14055\n",
      "\n",
      "    accuracy                           0.77     33000\n",
      "   macro avg       0.76      0.77      0.76     33000\n",
      "weighted avg       0.77      0.77      0.77     33000\n",
      "\n"
     ]
    }
   ],
   "source": [
    "print(classification_report(y_val, y_val_preds))"
   ]
  },
  {
   "cell_type": "code",
   "execution_count": 32,
   "metadata": {},
   "outputs": [
    {
     "name": "stdout",
     "output_type": "stream",
     "text": [
      "[0 1 1 ... 0 1 1]\n"
     ]
    }
   ],
   "source": [
    "test_preds = clf.predict(test)\n",
    "print(test_preds)"
   ]
  },
  {
   "cell_type": "code",
   "execution_count": 33,
   "metadata": {},
   "outputs": [
    {
     "name": "stdout",
     "output_type": "stream",
     "text": [
      "       PassengerId  Survived\n",
      "0           100000         0\n",
      "1           100001         1\n",
      "2           100002         1\n",
      "3           100003         0\n",
      "4           100004         1\n",
      "...            ...       ...\n",
      "99995       199995         1\n",
      "99996       199996         0\n",
      "99997       199997         0\n",
      "99998       199998         1\n",
      "99999       199999         1\n",
      "\n",
      "[100000 rows x 2 columns]\n"
     ]
    }
   ],
   "source": [
    "output_submission = pd.DataFrame({\"PassengerId\": test_id, \"Survived\": test_preds})\n",
    "print(output_submission)"
   ]
  },
  {
   "cell_type": "code",
   "execution_count": 34,
   "metadata": {},
   "outputs": [],
   "source": [
    "output_submission.to_csv(\"xgboost_submission.csv\")"
   ]
  },
  {
   "cell_type": "code",
   "execution_count": null,
   "metadata": {},
   "outputs": [],
   "source": []
  }
 ],
 "metadata": {
  "kernelspec": {
   "display_name": "Python 3",
   "language": "python",
   "name": "python3"
  },
  "language_info": {
   "codemirror_mode": {
    "name": "ipython",
    "version": 3
   },
   "file_extension": ".py",
   "mimetype": "text/x-python",
   "name": "python",
   "nbconvert_exporter": "python",
   "pygments_lexer": "ipython3",
   "version": "3.8.5"
  }
 },
 "nbformat": 4,
 "nbformat_minor": 4
}
