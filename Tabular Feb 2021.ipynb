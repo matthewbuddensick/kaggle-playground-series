{
 "cells": [
  {
   "cell_type": "code",
   "execution_count": 1,
   "metadata": {},
   "outputs": [],
   "source": [
    "import pandas as pd\n",
    "import numpy as np\n",
    "import matplotlib.pyplot as plt\n",
    "import seaborn as sns"
   ]
  },
  {
   "cell_type": "markdown",
   "metadata": {},
   "source": [
    "Data taken from the [Tabular Playground Series Kaggle Competition](https://www.kaggle.com/c/tabular-playground-series-feb-2021/overview)."
   ]
  },
  {
   "cell_type": "code",
   "execution_count": 2,
   "metadata": {},
   "outputs": [],
   "source": [
    "train = pd.read_csv(\"train.csv\", index_col = \"id\")\n",
    "test = pd.read_csv(\"test.csv\", index_col = \"id\")"
   ]
  },
  {
   "cell_type": "code",
   "execution_count": 3,
   "metadata": {},
   "outputs": [
    {
     "data": {
      "text/html": [
       "<div>\n",
       "<style scoped>\n",
       "    .dataframe tbody tr th:only-of-type {\n",
       "        vertical-align: middle;\n",
       "    }\n",
       "\n",
       "    .dataframe tbody tr th {\n",
       "        vertical-align: top;\n",
       "    }\n",
       "\n",
       "    .dataframe thead th {\n",
       "        text-align: right;\n",
       "    }\n",
       "</style>\n",
       "<table border=\"1\" class=\"dataframe\">\n",
       "  <thead>\n",
       "    <tr style=\"text-align: right;\">\n",
       "      <th></th>\n",
       "      <th>cat0</th>\n",
       "      <th>cat1</th>\n",
       "      <th>cat2</th>\n",
       "      <th>cat3</th>\n",
       "      <th>cat4</th>\n",
       "      <th>cat5</th>\n",
       "      <th>cat6</th>\n",
       "      <th>cat7</th>\n",
       "      <th>cat8</th>\n",
       "      <th>cat9</th>\n",
       "      <th>...</th>\n",
       "      <th>cont5</th>\n",
       "      <th>cont6</th>\n",
       "      <th>cont7</th>\n",
       "      <th>cont8</th>\n",
       "      <th>cont9</th>\n",
       "      <th>cont10</th>\n",
       "      <th>cont11</th>\n",
       "      <th>cont12</th>\n",
       "      <th>cont13</th>\n",
       "      <th>target</th>\n",
       "    </tr>\n",
       "  </thead>\n",
       "  <tbody>\n",
       "    <tr>\n",
       "      <th>count</th>\n",
       "      <td>300000</td>\n",
       "      <td>300000</td>\n",
       "      <td>300000</td>\n",
       "      <td>300000</td>\n",
       "      <td>300000</td>\n",
       "      <td>300000</td>\n",
       "      <td>300000</td>\n",
       "      <td>300000</td>\n",
       "      <td>300000</td>\n",
       "      <td>300000</td>\n",
       "      <td>...</td>\n",
       "      <td>300000.000000</td>\n",
       "      <td>300000.000000</td>\n",
       "      <td>300000.000000</td>\n",
       "      <td>300000.000000</td>\n",
       "      <td>300000.000000</td>\n",
       "      <td>300000.000000</td>\n",
       "      <td>300000.000000</td>\n",
       "      <td>300000.000000</td>\n",
       "      <td>300000.000000</td>\n",
       "      <td>300000.000000</td>\n",
       "    </tr>\n",
       "    <tr>\n",
       "      <th>unique</th>\n",
       "      <td>2</td>\n",
       "      <td>2</td>\n",
       "      <td>2</td>\n",
       "      <td>4</td>\n",
       "      <td>4</td>\n",
       "      <td>4</td>\n",
       "      <td>8</td>\n",
       "      <td>8</td>\n",
       "      <td>7</td>\n",
       "      <td>15</td>\n",
       "      <td>...</td>\n",
       "      <td>NaN</td>\n",
       "      <td>NaN</td>\n",
       "      <td>NaN</td>\n",
       "      <td>NaN</td>\n",
       "      <td>NaN</td>\n",
       "      <td>NaN</td>\n",
       "      <td>NaN</td>\n",
       "      <td>NaN</td>\n",
       "      <td>NaN</td>\n",
       "      <td>NaN</td>\n",
       "    </tr>\n",
       "    <tr>\n",
       "      <th>top</th>\n",
       "      <td>A</td>\n",
       "      <td>A</td>\n",
       "      <td>A</td>\n",
       "      <td>C</td>\n",
       "      <td>B</td>\n",
       "      <td>B</td>\n",
       "      <td>A</td>\n",
       "      <td>E</td>\n",
       "      <td>C</td>\n",
       "      <td>F</td>\n",
       "      <td>...</td>\n",
       "      <td>NaN</td>\n",
       "      <td>NaN</td>\n",
       "      <td>NaN</td>\n",
       "      <td>NaN</td>\n",
       "      <td>NaN</td>\n",
       "      <td>NaN</td>\n",
       "      <td>NaN</td>\n",
       "      <td>NaN</td>\n",
       "      <td>NaN</td>\n",
       "      <td>NaN</td>\n",
       "    </tr>\n",
       "    <tr>\n",
       "      <th>freq</th>\n",
       "      <td>281471</td>\n",
       "      <td>162678</td>\n",
       "      <td>276551</td>\n",
       "      <td>183752</td>\n",
       "      <td>297373</td>\n",
       "      <td>149208</td>\n",
       "      <td>292643</td>\n",
       "      <td>267631</td>\n",
       "      <td>121054</td>\n",
       "      <td>107281</td>\n",
       "      <td>...</td>\n",
       "      <td>NaN</td>\n",
       "      <td>NaN</td>\n",
       "      <td>NaN</td>\n",
       "      <td>NaN</td>\n",
       "      <td>NaN</td>\n",
       "      <td>NaN</td>\n",
       "      <td>NaN</td>\n",
       "      <td>NaN</td>\n",
       "      <td>NaN</td>\n",
       "      <td>NaN</td>\n",
       "    </tr>\n",
       "    <tr>\n",
       "      <th>mean</th>\n",
       "      <td>NaN</td>\n",
       "      <td>NaN</td>\n",
       "      <td>NaN</td>\n",
       "      <td>NaN</td>\n",
       "      <td>NaN</td>\n",
       "      <td>NaN</td>\n",
       "      <td>NaN</td>\n",
       "      <td>NaN</td>\n",
       "      <td>NaN</td>\n",
       "      <td>NaN</td>\n",
       "      <td>...</td>\n",
       "      <td>0.508337</td>\n",
       "      <td>0.478345</td>\n",
       "      <td>0.455904</td>\n",
       "      <td>0.459321</td>\n",
       "      <td>0.526899</td>\n",
       "      <td>0.504943</td>\n",
       "      <td>0.529938</td>\n",
       "      <td>0.524549</td>\n",
       "      <td>0.503349</td>\n",
       "      <td>7.456260</td>\n",
       "    </tr>\n",
       "    <tr>\n",
       "      <th>std</th>\n",
       "      <td>NaN</td>\n",
       "      <td>NaN</td>\n",
       "      <td>NaN</td>\n",
       "      <td>NaN</td>\n",
       "      <td>NaN</td>\n",
       "      <td>NaN</td>\n",
       "      <td>NaN</td>\n",
       "      <td>NaN</td>\n",
       "      <td>NaN</td>\n",
       "      <td>NaN</td>\n",
       "      <td>...</td>\n",
       "      <td>0.231612</td>\n",
       "      <td>0.192432</td>\n",
       "      <td>0.204493</td>\n",
       "      <td>0.220642</td>\n",
       "      <td>0.204025</td>\n",
       "      <td>0.201549</td>\n",
       "      <td>0.230860</td>\n",
       "      <td>0.220892</td>\n",
       "      <td>0.225218</td>\n",
       "      <td>0.887295</td>\n",
       "    </tr>\n",
       "    <tr>\n",
       "      <th>min</th>\n",
       "      <td>NaN</td>\n",
       "      <td>NaN</td>\n",
       "      <td>NaN</td>\n",
       "      <td>NaN</td>\n",
       "      <td>NaN</td>\n",
       "      <td>NaN</td>\n",
       "      <td>NaN</td>\n",
       "      <td>NaN</td>\n",
       "      <td>NaN</td>\n",
       "      <td>NaN</td>\n",
       "      <td>...</td>\n",
       "      <td>-0.087247</td>\n",
       "      <td>0.043953</td>\n",
       "      <td>0.208703</td>\n",
       "      <td>0.004041</td>\n",
       "      <td>0.073040</td>\n",
       "      <td>0.059644</td>\n",
       "      <td>0.064161</td>\n",
       "      <td>-0.005600</td>\n",
       "      <td>0.158121</td>\n",
       "      <td>0.000000</td>\n",
       "    </tr>\n",
       "    <tr>\n",
       "      <th>25%</th>\n",
       "      <td>NaN</td>\n",
       "      <td>NaN</td>\n",
       "      <td>NaN</td>\n",
       "      <td>NaN</td>\n",
       "      <td>NaN</td>\n",
       "      <td>NaN</td>\n",
       "      <td>NaN</td>\n",
       "      <td>NaN</td>\n",
       "      <td>NaN</td>\n",
       "      <td>NaN</td>\n",
       "      <td>...</td>\n",
       "      <td>0.338747</td>\n",
       "      <td>0.339896</td>\n",
       "      <td>0.278041</td>\n",
       "      <td>0.308655</td>\n",
       "      <td>0.361957</td>\n",
       "      <td>0.338898</td>\n",
       "      <td>0.316662</td>\n",
       "      <td>0.332143</td>\n",
       "      <td>0.291289</td>\n",
       "      <td>6.798341</td>\n",
       "    </tr>\n",
       "    <tr>\n",
       "      <th>50%</th>\n",
       "      <td>NaN</td>\n",
       "      <td>NaN</td>\n",
       "      <td>NaN</td>\n",
       "      <td>NaN</td>\n",
       "      <td>NaN</td>\n",
       "      <td>NaN</td>\n",
       "      <td>NaN</td>\n",
       "      <td>NaN</td>\n",
       "      <td>NaN</td>\n",
       "      <td>NaN</td>\n",
       "      <td>...</td>\n",
       "      <td>0.441384</td>\n",
       "      <td>0.410090</td>\n",
       "      <td>0.360736</td>\n",
       "      <td>0.425801</td>\n",
       "      <td>0.488867</td>\n",
       "      <td>0.519855</td>\n",
       "      <td>0.558827</td>\n",
       "      <td>0.407365</td>\n",
       "      <td>0.433909</td>\n",
       "      <td>7.496503</td>\n",
       "    </tr>\n",
       "    <tr>\n",
       "      <th>75%</th>\n",
       "      <td>NaN</td>\n",
       "      <td>NaN</td>\n",
       "      <td>NaN</td>\n",
       "      <td>NaN</td>\n",
       "      <td>NaN</td>\n",
       "      <td>NaN</td>\n",
       "      <td>NaN</td>\n",
       "      <td>NaN</td>\n",
       "      <td>NaN</td>\n",
       "      <td>NaN</td>\n",
       "      <td>...</td>\n",
       "      <td>0.709515</td>\n",
       "      <td>0.604246</td>\n",
       "      <td>0.639388</td>\n",
       "      <td>0.541525</td>\n",
       "      <td>0.752765</td>\n",
       "      <td>0.672809</td>\n",
       "      <td>0.720381</td>\n",
       "      <td>0.732431</td>\n",
       "      <td>0.730870</td>\n",
       "      <td>8.161166</td>\n",
       "    </tr>\n",
       "    <tr>\n",
       "      <th>max</th>\n",
       "      <td>NaN</td>\n",
       "      <td>NaN</td>\n",
       "      <td>NaN</td>\n",
       "      <td>NaN</td>\n",
       "      <td>NaN</td>\n",
       "      <td>NaN</td>\n",
       "      <td>NaN</td>\n",
       "      <td>NaN</td>\n",
       "      <td>NaN</td>\n",
       "      <td>NaN</td>\n",
       "      <td>...</td>\n",
       "      <td>1.044433</td>\n",
       "      <td>1.093312</td>\n",
       "      <td>1.036541</td>\n",
       "      <td>1.014156</td>\n",
       "      <td>0.972091</td>\n",
       "      <td>1.029773</td>\n",
       "      <td>1.038049</td>\n",
       "      <td>0.961370</td>\n",
       "      <td>0.873579</td>\n",
       "      <td>10.309208</td>\n",
       "    </tr>\n",
       "  </tbody>\n",
       "</table>\n",
       "<p>11 rows × 25 columns</p>\n",
       "</div>"
      ],
      "text/plain": [
       "          cat0    cat1    cat2    cat3    cat4    cat5    cat6    cat7  \\\n",
       "count   300000  300000  300000  300000  300000  300000  300000  300000   \n",
       "unique       2       2       2       4       4       4       8       8   \n",
       "top          A       A       A       C       B       B       A       E   \n",
       "freq    281471  162678  276551  183752  297373  149208  292643  267631   \n",
       "mean       NaN     NaN     NaN     NaN     NaN     NaN     NaN     NaN   \n",
       "std        NaN     NaN     NaN     NaN     NaN     NaN     NaN     NaN   \n",
       "min        NaN     NaN     NaN     NaN     NaN     NaN     NaN     NaN   \n",
       "25%        NaN     NaN     NaN     NaN     NaN     NaN     NaN     NaN   \n",
       "50%        NaN     NaN     NaN     NaN     NaN     NaN     NaN     NaN   \n",
       "75%        NaN     NaN     NaN     NaN     NaN     NaN     NaN     NaN   \n",
       "max        NaN     NaN     NaN     NaN     NaN     NaN     NaN     NaN   \n",
       "\n",
       "          cat8    cat9  ...          cont5          cont6          cont7  \\\n",
       "count   300000  300000  ...  300000.000000  300000.000000  300000.000000   \n",
       "unique       7      15  ...            NaN            NaN            NaN   \n",
       "top          C       F  ...            NaN            NaN            NaN   \n",
       "freq    121054  107281  ...            NaN            NaN            NaN   \n",
       "mean       NaN     NaN  ...       0.508337       0.478345       0.455904   \n",
       "std        NaN     NaN  ...       0.231612       0.192432       0.204493   \n",
       "min        NaN     NaN  ...      -0.087247       0.043953       0.208703   \n",
       "25%        NaN     NaN  ...       0.338747       0.339896       0.278041   \n",
       "50%        NaN     NaN  ...       0.441384       0.410090       0.360736   \n",
       "75%        NaN     NaN  ...       0.709515       0.604246       0.639388   \n",
       "max        NaN     NaN  ...       1.044433       1.093312       1.036541   \n",
       "\n",
       "                cont8          cont9         cont10         cont11  \\\n",
       "count   300000.000000  300000.000000  300000.000000  300000.000000   \n",
       "unique            NaN            NaN            NaN            NaN   \n",
       "top               NaN            NaN            NaN            NaN   \n",
       "freq              NaN            NaN            NaN            NaN   \n",
       "mean         0.459321       0.526899       0.504943       0.529938   \n",
       "std          0.220642       0.204025       0.201549       0.230860   \n",
       "min          0.004041       0.073040       0.059644       0.064161   \n",
       "25%          0.308655       0.361957       0.338898       0.316662   \n",
       "50%          0.425801       0.488867       0.519855       0.558827   \n",
       "75%          0.541525       0.752765       0.672809       0.720381   \n",
       "max          1.014156       0.972091       1.029773       1.038049   \n",
       "\n",
       "               cont12         cont13         target  \n",
       "count   300000.000000  300000.000000  300000.000000  \n",
       "unique            NaN            NaN            NaN  \n",
       "top               NaN            NaN            NaN  \n",
       "freq              NaN            NaN            NaN  \n",
       "mean         0.524549       0.503349       7.456260  \n",
       "std          0.220892       0.225218       0.887295  \n",
       "min         -0.005600       0.158121       0.000000  \n",
       "25%          0.332143       0.291289       6.798341  \n",
       "50%          0.407365       0.433909       7.496503  \n",
       "75%          0.732431       0.730870       8.161166  \n",
       "max          0.961370       0.873579      10.309208  \n",
       "\n",
       "[11 rows x 25 columns]"
      ]
     },
     "execution_count": 3,
     "metadata": {},
     "output_type": "execute_result"
    }
   ],
   "source": [
    "train.describe(include = \"all\")"
   ]
  },
  {
   "cell_type": "code",
   "execution_count": 4,
   "metadata": {},
   "outputs": [
    {
     "name": "stdout",
     "output_type": "stream",
     "text": [
      "<class 'pandas.core.frame.DataFrame'>\n",
      "Int64Index: 300000 entries, 1 to 499999\n",
      "Data columns (total 25 columns):\n",
      " #   Column  Non-Null Count   Dtype  \n",
      "---  ------  --------------   -----  \n",
      " 0   cat0    300000 non-null  object \n",
      " 1   cat1    300000 non-null  object \n",
      " 2   cat2    300000 non-null  object \n",
      " 3   cat3    300000 non-null  object \n",
      " 4   cat4    300000 non-null  object \n",
      " 5   cat5    300000 non-null  object \n",
      " 6   cat6    300000 non-null  object \n",
      " 7   cat7    300000 non-null  object \n",
      " 8   cat8    300000 non-null  object \n",
      " 9   cat9    300000 non-null  object \n",
      " 10  cont0   300000 non-null  float64\n",
      " 11  cont1   300000 non-null  float64\n",
      " 12  cont2   300000 non-null  float64\n",
      " 13  cont3   300000 non-null  float64\n",
      " 14  cont4   300000 non-null  float64\n",
      " 15  cont5   300000 non-null  float64\n",
      " 16  cont6   300000 non-null  float64\n",
      " 17  cont7   300000 non-null  float64\n",
      " 18  cont8   300000 non-null  float64\n",
      " 19  cont9   300000 non-null  float64\n",
      " 20  cont10  300000 non-null  float64\n",
      " 21  cont11  300000 non-null  float64\n",
      " 22  cont12  300000 non-null  float64\n",
      " 23  cont13  300000 non-null  float64\n",
      " 24  target  300000 non-null  float64\n",
      "dtypes: float64(15), object(10)\n",
      "memory usage: 59.5+ MB\n"
     ]
    }
   ],
   "source": [
    "train.info()"
   ]
  },
  {
   "cell_type": "code",
   "execution_count": 5,
   "metadata": {},
   "outputs": [
    {
     "name": "stdout",
     "output_type": "stream",
     "text": [
      "There are 0 blank cells in the training data\n",
      "There are 0 blank cells in the testing data\n"
     ]
    }
   ],
   "source": [
    "print(f\"There are {train.isna().sum().sum()} blank cells in the training data\")\n",
    "print(f\"There are {test.isna().sum().sum()} blank cells in the testing data\")"
   ]
  },
  {
   "cell_type": "markdown",
   "metadata": {},
   "source": [
    "## Modeling"
   ]
  },
  {
   "cell_type": "code",
   "execution_count": 6,
   "metadata": {},
   "outputs": [],
   "source": [
    "from sklearn.preprocessing import OneHotEncoder\n",
    "from sklearn.preprocessing import StandardScaler\n",
    "from sklearn.pipeline import Pipeline\n",
    "from sklearn.metrics import mean_absolute_error\n",
    "from sklearn.metrics import mean_squared_error\n",
    "from sklearn.metrics import r2_score\n",
    "from sklearn.model_selection import train_test_split\n",
    "from sklearn.model_selection import GridSearchCV\n",
    "from sklearn.linear_model import LinearRegression\n",
    "from sklearn.ensemble import RandomForestRegressor\n",
    "from sklearn.compose import ColumnTransformer\n",
    "from xgboost import XGBRegressor"
   ]
  },
  {
   "cell_type": "code",
   "execution_count": 7,
   "metadata": {},
   "outputs": [],
   "source": [
    "X = train.drop(\"target\", axis = 1)\n",
    "y = train[\"target\"]"
   ]
  },
  {
   "cell_type": "code",
   "execution_count": 8,
   "metadata": {},
   "outputs": [],
   "source": [
    "X_train, X_val, y_train, y_val = train_test_split(X, y, train_size = .75, test_size = .25, random_state = 42)"
   ]
  },
  {
   "cell_type": "code",
   "execution_count": 9,
   "metadata": {},
   "outputs": [],
   "source": [
    "categorical_variables = []\n",
    "numerical_variables = []\n",
    "for i in X_train:\n",
    "    if X_train[i].dtype == \"O\":\n",
    "        categorical_variables.append(i)\n",
    "    elif X_train[i].dtype == \"float64\":\n",
    "        numerical_variables.append(i)\n",
    "\n",
    "predictor_variables = categorical_variables + numerical_variables"
   ]
  },
  {
   "cell_type": "code",
   "execution_count": 10,
   "metadata": {},
   "outputs": [],
   "source": [
    "numeric_transformer = StandardScaler()\n",
    "categorical_transformer = OneHotEncoder(handle_unknown = \"ignore\")\n",
    "\n",
    "preprocessor = ColumnTransformer([\n",
    "        (\"numeric\", numeric_transformer, numerical_variables),\n",
    "        (\"categorical\", categorical_transformer, categorical_variables)\n",
    "    ])"
   ]
  },
  {
   "cell_type": "code",
   "execution_count": 11,
   "metadata": {},
   "outputs": [],
   "source": [
    "def test_model_no_params(X_train, y_train, X_test, y_test, model_type):\n",
    "    \"\"\"\n",
    "    This function automates the machine learning process in order to make it easier to run multiple models. It returns the predictions made by the model on the validation set, \n",
    "    the mean absolute error, mean squared error, r2 score, and the actual model pipeline. The model pipeline can be used to predict on the hold out testing set for submission.\n",
    "    \"\"\"\n",
    "    model = model_type\n",
    "    pipeline = Pipeline(steps = [\n",
    "        (\"preprocess\", preprocessor),\n",
    "        (\"model\", model)\n",
    "    ])\n",
    "    pipeline.fit(X_train, y_train)\n",
    "    predictions = pipeline.predict(X_test)\n",
    "    mae = mean_absolute_error(y_test, predictions)\n",
    "    mse = mean_squared_error(y_test, predictions)\n",
    "    r2 = r2_score(y_test, predictions)\n",
    "    \n",
    "    return predictions, mae, mse, r2, pipeline"
   ]
  },
  {
   "cell_type": "code",
   "execution_count": 12,
   "metadata": {},
   "outputs": [],
   "source": [
    "def test_model_with_params(X_train, y_train, X_test, y_test, model_type, params):\n",
    "    \"\"\"\n",
    "    This functions allows for creating models and specifying a parameteter grid in which to test with. The function returns the predictions made, mean absolute error,\n",
    "    mean squared error, r2 score, and the clf variable with the best model chosen from the specified hyper parameters.\n",
    "    \"\"\"\n",
    "    model = model_type\n",
    "    pipeline = Pipeline(steps = [\n",
    "        (\"preprocess\", preprocessor),\n",
    "        (\"model\", model)\n",
    "    ])\n",
    "    clf = GridSearchCV(pipeline, param_grid = params, cv = 3, n_jobs = 4)\n",
    "    clf.fit(X_train, y_train)\n",
    "    predictions = clf.predict(X_test)\n",
    "    mae = mean_absolute_error(y_test, predictions)\n",
    "    mse = mean_squared_error(y_test, predictions)\n",
    "    r2 = r2_score(y_test, predictions)\n",
    "    \n",
    "    return predictions, mae, mse, r2, clf"
   ]
  },
  {
   "cell_type": "code",
   "execution_count": 13,
   "metadata": {},
   "outputs": [],
   "source": [
    "def get_model_results(model_results, model_type):\n",
    "    \"\"\"\n",
    "    This function loops through the model results and creates a dataframe with the name of the model as well as the metrics in order for easy evaluation and to compare \n",
    "    models to each other to determine which is best.\n",
    "    \"\"\"\n",
    "    for i in model_results:\n",
    "        mae = model_results[1]\n",
    "        mse = model_results[2]\n",
    "        r2 = model_results[3]\n",
    "        \n",
    "        return pd.DataFrame({\"model\": [model_type], \"mae\": [mae], \"mse\": [mse], \"r2\": [r2]})"
   ]
  },
  {
   "cell_type": "markdown",
   "metadata": {},
   "source": [
    "### Linear Model"
   ]
  },
  {
   "cell_type": "code",
   "execution_count": 14,
   "metadata": {},
   "outputs": [],
   "source": [
    "linear_model_results = test_model_no_params(X_train, y_train, X_val, y_val, LinearRegression())"
   ]
  },
  {
   "cell_type": "code",
   "execution_count": 15,
   "metadata": {},
   "outputs": [
    {
     "data": {
      "text/html": [
       "<div>\n",
       "<style scoped>\n",
       "    .dataframe tbody tr th:only-of-type {\n",
       "        vertical-align: middle;\n",
       "    }\n",
       "\n",
       "    .dataframe tbody tr th {\n",
       "        vertical-align: top;\n",
       "    }\n",
       "\n",
       "    .dataframe thead th {\n",
       "        text-align: right;\n",
       "    }\n",
       "</style>\n",
       "<table border=\"1\" class=\"dataframe\">\n",
       "  <thead>\n",
       "    <tr style=\"text-align: right;\">\n",
       "      <th></th>\n",
       "      <th>model</th>\n",
       "      <th>mae</th>\n",
       "      <th>mse</th>\n",
       "      <th>r2</th>\n",
       "    </tr>\n",
       "  </thead>\n",
       "  <tbody>\n",
       "    <tr>\n",
       "      <th>0</th>\n",
       "      <td>Linear Regression</td>\n",
       "      <td>0.719639</td>\n",
       "      <td>0.747482</td>\n",
       "      <td>0.054602</td>\n",
       "    </tr>\n",
       "  </tbody>\n",
       "</table>\n",
       "</div>"
      ],
      "text/plain": [
       "               model       mae       mse        r2\n",
       "0  Linear Regression  0.719639  0.747482  0.054602"
      ]
     },
     "execution_count": 15,
     "metadata": {},
     "output_type": "execute_result"
    }
   ],
   "source": [
    "linear_results_df = get_model_results(linear_model_results, \"Linear Regression\")\n",
    "linear_results_df"
   ]
  },
  {
   "cell_type": "markdown",
   "metadata": {},
   "source": [
    "### Random Forest"
   ]
  },
  {
   "cell_type": "code",
   "execution_count": 16,
   "metadata": {},
   "outputs": [],
   "source": [
    "random_forest_results = test_model_no_params(X_train, y_train, X_val, y_val, RandomForestRegressor())"
   ]
  },
  {
   "cell_type": "code",
   "execution_count": 17,
   "metadata": {},
   "outputs": [
    {
     "data": {
      "text/html": [
       "<div>\n",
       "<style scoped>\n",
       "    .dataframe tbody tr th:only-of-type {\n",
       "        vertical-align: middle;\n",
       "    }\n",
       "\n",
       "    .dataframe tbody tr th {\n",
       "        vertical-align: top;\n",
       "    }\n",
       "\n",
       "    .dataframe thead th {\n",
       "        text-align: right;\n",
       "    }\n",
       "</style>\n",
       "<table border=\"1\" class=\"dataframe\">\n",
       "  <thead>\n",
       "    <tr style=\"text-align: right;\">\n",
       "      <th></th>\n",
       "      <th>model</th>\n",
       "      <th>mae</th>\n",
       "      <th>mse</th>\n",
       "      <th>r2</th>\n",
       "    </tr>\n",
       "  </thead>\n",
       "  <tbody>\n",
       "    <tr>\n",
       "      <th>0</th>\n",
       "      <td>Random Forest</td>\n",
       "      <td>0.71628</td>\n",
       "      <td>0.736518</td>\n",
       "      <td>0.068469</td>\n",
       "    </tr>\n",
       "  </tbody>\n",
       "</table>\n",
       "</div>"
      ],
      "text/plain": [
       "           model      mae       mse        r2\n",
       "0  Random Forest  0.71628  0.736518  0.068469"
      ]
     },
     "execution_count": 17,
     "metadata": {},
     "output_type": "execute_result"
    }
   ],
   "source": [
    "random_forest_results_df = get_model_results(random_forest_results, \"Random Forest\")\n",
    "random_forest_results_df"
   ]
  },
  {
   "cell_type": "markdown",
   "metadata": {},
   "source": [
    "### XGBoost"
   ]
  },
  {
   "cell_type": "code",
   "execution_count": 18,
   "metadata": {},
   "outputs": [],
   "source": [
    "xgboost_model_results = test_model_no_params(X_train, y_train, X_val, y_val, XGBRegressor())"
   ]
  },
  {
   "cell_type": "code",
   "execution_count": 19,
   "metadata": {},
   "outputs": [
    {
     "data": {
      "text/html": [
       "<div>\n",
       "<style scoped>\n",
       "    .dataframe tbody tr th:only-of-type {\n",
       "        vertical-align: middle;\n",
       "    }\n",
       "\n",
       "    .dataframe tbody tr th {\n",
       "        vertical-align: top;\n",
       "    }\n",
       "\n",
       "    .dataframe thead th {\n",
       "        text-align: right;\n",
       "    }\n",
       "</style>\n",
       "<table border=\"1\" class=\"dataframe\">\n",
       "  <thead>\n",
       "    <tr style=\"text-align: right;\">\n",
       "      <th></th>\n",
       "      <th>model</th>\n",
       "      <th>mae</th>\n",
       "      <th>mse</th>\n",
       "      <th>r2</th>\n",
       "    </tr>\n",
       "  </thead>\n",
       "  <tbody>\n",
       "    <tr>\n",
       "      <th>0</th>\n",
       "      <td>XGBoost</td>\n",
       "      <td>0.709442</td>\n",
       "      <td>0.723245</td>\n",
       "      <td>0.085256</td>\n",
       "    </tr>\n",
       "  </tbody>\n",
       "</table>\n",
       "</div>"
      ],
      "text/plain": [
       "     model       mae       mse        r2\n",
       "0  XGBoost  0.709442  0.723245  0.085256"
      ]
     },
     "execution_count": 19,
     "metadata": {},
     "output_type": "execute_result"
    }
   ],
   "source": [
    "xgboost_results_df = get_model_results(xgboost_model_results, \"XGBoost\")\n",
    "xgboost_results_df"
   ]
  },
  {
   "cell_type": "markdown",
   "metadata": {},
   "source": [
    "### XGBoost Parameter Tuning"
   ]
  },
  {
   "cell_type": "code",
   "execution_count": 20,
   "metadata": {},
   "outputs": [],
   "source": [
    "xgboost_grid = {\n",
    "    \"model__learning_rate\": [0.05, .01, .02],\n",
    "    \"model__max_depth\": [4, 6, 8],\n",
    "    \"model__n_estimators\": [1000, 2500]\n",
    "}"
   ]
  },
  {
   "cell_type": "code",
   "execution_count": 21,
   "metadata": {},
   "outputs": [],
   "source": [
    "xgboost_tuned_results = test_model_with_params(X_train, y_train, X_val, y_val, XGBRegressor(), xgboost_grid)"
   ]
  },
  {
   "cell_type": "code",
   "execution_count": 23,
   "metadata": {},
   "outputs": [
    {
     "data": {
      "text/html": [
       "<div>\n",
       "<style scoped>\n",
       "    .dataframe tbody tr th:only-of-type {\n",
       "        vertical-align: middle;\n",
       "    }\n",
       "\n",
       "    .dataframe tbody tr th {\n",
       "        vertical-align: top;\n",
       "    }\n",
       "\n",
       "    .dataframe thead th {\n",
       "        text-align: right;\n",
       "    }\n",
       "</style>\n",
       "<table border=\"1\" class=\"dataframe\">\n",
       "  <thead>\n",
       "    <tr style=\"text-align: right;\">\n",
       "      <th></th>\n",
       "      <th>model</th>\n",
       "      <th>mae</th>\n",
       "      <th>mse</th>\n",
       "      <th>r2</th>\n",
       "    </tr>\n",
       "  </thead>\n",
       "  <tbody>\n",
       "    <tr>\n",
       "      <th>0</th>\n",
       "      <td>Tuned XGBoost</td>\n",
       "      <td>0.706424</td>\n",
       "      <td>0.71406</td>\n",
       "      <td>0.096874</td>\n",
       "    </tr>\n",
       "  </tbody>\n",
       "</table>\n",
       "</div>"
      ],
      "text/plain": [
       "           model       mae      mse        r2\n",
       "0  Tuned XGBoost  0.706424  0.71406  0.096874"
      ]
     },
     "execution_count": 23,
     "metadata": {},
     "output_type": "execute_result"
    }
   ],
   "source": [
    "xgboost_tuned_results_df = get_model_results(xgboost_tuned_results, \"Tuned XGBoost\")\n",
    "xgboost_tuned_results_df"
   ]
  },
  {
   "cell_type": "markdown",
   "metadata": {},
   "source": [
    "## Evaluate Models"
   ]
  },
  {
   "cell_type": "code",
   "execution_count": 45,
   "metadata": {},
   "outputs": [
    {
     "data": {
      "image/png": "[encoded data removed]",
      "text/plain": [
       "<Figure size 864x864 with 3 Axes>"
      ]
     },
     "metadata": {
      "needs_background": "light"
     },
     "output_type": "display_data"
    }
   ],
   "source": [
    "all_models = pd.concat([linear_results_df, random_forest_results_df, xgboost_results_df, xgboost_tuned_results_df])\n",
    "\n",
    "fig, (ax0, ax1, ax2) = plt.subplots(3, 1, figsize = (12, 12))\n",
    "\n",
    "sns.barplot(x = all_models[\"model\"], y = all_models[\"mae\"], ax = ax0)\n",
    "sns.barplot(x = all_models[\"model\"], y = all_models[\"mse\"], ax = ax1)\n",
    "sns.barplot(x = all_models[\"model\"], y = all_models[\"r2\"], ax = ax2)\n",
    "\n",
    "plt.title(\"Evaluate Models\", y = 3.4)\n",
    "\n",
    "ax0.set_ylabel(\"Mean Absolute Error\")\n",
    "ax1.set_ylabel(\"Mean Squared Error\")\n",
    "ax2.set_ylabel(\"R Squared\")\n",
    "\n",
    "for ax in fig.axes:\n",
    "    ax.set_xlabel(\"Model\")"
   ]
  },
  {
   "cell_type": "markdown",
   "metadata": {},
   "source": [
    "The XGBoost model that has tuned parameters performs slightly better than the other 3 models created. However, all models have a relatively low R Squared value."
   ]
  },
  {
   "cell_type": "markdown",
   "metadata": {},
   "source": [
    "## Use Best Model On Test data"
   ]
  },
  {
   "cell_type": "code",
   "execution_count": 46,
   "metadata": {},
   "outputs": [],
   "source": [
    "id = test.index"
   ]
  },
  {
   "cell_type": "code",
   "execution_count": 47,
   "metadata": {},
   "outputs": [],
   "source": [
    "test_results = xgboost_tuned_results[4].predict(test)"
   ]
  },
  {
   "cell_type": "code",
   "execution_count": 48,
   "metadata": {},
   "outputs": [],
   "source": [
    "xgboost_submission = pd.DataFrame({\"id\": id, \"target\": test_results})"
   ]
  },
  {
   "cell_type": "code",
   "execution_count": 49,
   "metadata": {},
   "outputs": [],
   "source": [
    "xgboost_submission.to_csv(\"xgboost_submission.csv\")"
   ]
  },
  {
   "cell_type": "code",
   "execution_count": 53,
   "metadata": {},
   "outputs": [
    {
     "data": {
      "text/plain": [
       "{'mean_fit_time': array([145.60654283, 336.16938535, 232.68121227, 508.9394567 ,\n",
       "        305.78496114, 762.4457469 , 116.15029629, 306.59172622,\n",
       "        221.18429828, 484.06370155, 296.94013619, 741.63235362,\n",
       "        108.17240787, 294.04416815, 211.03231645, 485.1113197 ,\n",
       "        295.85158968, 518.78522023]),\n",
       " 'std_fit_time': array([ 0.8731166 ,  4.33355552, 10.58837237,  6.23730918, 15.86996661,\n",
       "        19.05933102,  2.42789062,  6.4033222 ,  5.95201478,  5.23765173,\n",
       "        18.15327839, 34.71132834,  1.74326579,  4.81902348,  3.80549837,\n",
       "         5.74609888, 17.62381012, 60.67194667]),\n",
       " 'mean_score_time': array([0.38403924, 0.56718254, 0.48044483, 0.76297243, 0.55517594,\n",
       "        0.91916951, 0.39002148, 0.54749799, 0.48077059, 0.71865384,\n",
       "        0.53215051, 0.94285782, 0.37867769, 0.50312432, 0.45441318,\n",
       "        0.71231445, 0.54149246, 0.75602086]),\n",
       " 'std_score_time': array([0.01041746, 0.01679478, 0.01858827, 0.00719044, 0.02137539,\n",
       "        0.034531  , 0.01585394, 0.00572051, 0.01303327, 0.01914853,\n",
       "        0.01439667, 0.0184199 , 0.01053985, 0.01392517, 0.01477833,\n",
       "        0.02579578, 0.02414659, 0.10165516]),\n",
       " 'param_model__learning_rate': masked_array(data=[0.05, 0.05, 0.05, 0.05, 0.05, 0.05, 0.01, 0.01, 0.01,\n",
       "                    0.01, 0.01, 0.01, 0.02, 0.02, 0.02, 0.02, 0.02, 0.02],\n",
       "              mask=[False, False, False, False, False, False, False, False,\n",
       "                    False, False, False, False, False, False, False, False,\n",
       "                    False, False],\n",
       "        fill_value='?',\n",
       "             dtype=object),\n",
       " 'param_model__max_depth': masked_array(data=[4, 4, 6, 6, 8, 8, 4, 4, 6, 6, 8, 8, 4, 4, 6, 6, 8, 8],\n",
       "              mask=[False, False, False, False, False, False, False, False,\n",
       "                    False, False, False, False, False, False, False, False,\n",
       "                    False, False],\n",
       "        fill_value='?',\n",
       "             dtype=object),\n",
       " 'param_model__n_estimators': masked_array(data=[1000, 2500, 1000, 2500, 1000, 2500, 1000, 2500, 1000,\n",
       "                    2500, 1000, 2500, 1000, 2500, 1000, 2500, 1000, 2500],\n",
       "              mask=[False, False, False, False, False, False, False, False,\n",
       "                    False, False, False, False, False, False, False, False,\n",
       "                    False, False],\n",
       "        fill_value='?',\n",
       "             dtype=object),\n",
       " 'params': [{'model__learning_rate': 0.05,\n",
       "   'model__max_depth': 4,\n",
       "   'model__n_estimators': 1000},\n",
       "  {'model__learning_rate': 0.05,\n",
       "   'model__max_depth': 4,\n",
       "   'model__n_estimators': 2500},\n",
       "  {'model__learning_rate': 0.05,\n",
       "   'model__max_depth': 6,\n",
       "   'model__n_estimators': 1000},\n",
       "  {'model__learning_rate': 0.05,\n",
       "   'model__max_depth': 6,\n",
       "   'model__n_estimators': 2500},\n",
       "  {'model__learning_rate': 0.05,\n",
       "   'model__max_depth': 8,\n",
       "   'model__n_estimators': 1000},\n",
       "  {'model__learning_rate': 0.05,\n",
       "   'model__max_depth': 8,\n",
       "   'model__n_estimators': 2500},\n",
       "  {'model__learning_rate': 0.01,\n",
       "   'model__max_depth': 4,\n",
       "   'model__n_estimators': 1000},\n",
       "  {'model__learning_rate': 0.01,\n",
       "   'model__max_depth': 4,\n",
       "   'model__n_estimators': 2500},\n",
       "  {'model__learning_rate': 0.01,\n",
       "   'model__max_depth': 6,\n",
       "   'model__n_estimators': 1000},\n",
       "  {'model__learning_rate': 0.01,\n",
       "   'model__max_depth': 6,\n",
       "   'model__n_estimators': 2500},\n",
       "  {'model__learning_rate': 0.01,\n",
       "   'model__max_depth': 8,\n",
       "   'model__n_estimators': 1000},\n",
       "  {'model__learning_rate': 0.01,\n",
       "   'model__max_depth': 8,\n",
       "   'model__n_estimators': 2500},\n",
       "  {'model__learning_rate': 0.02,\n",
       "   'model__max_depth': 4,\n",
       "   'model__n_estimators': 1000},\n",
       "  {'model__learning_rate': 0.02,\n",
       "   'model__max_depth': 4,\n",
       "   'model__n_estimators': 2500},\n",
       "  {'model__learning_rate': 0.02,\n",
       "   'model__max_depth': 6,\n",
       "   'model__n_estimators': 1000},\n",
       "  {'model__learning_rate': 0.02,\n",
       "   'model__max_depth': 6,\n",
       "   'model__n_estimators': 2500},\n",
       "  {'model__learning_rate': 0.02,\n",
       "   'model__max_depth': 8,\n",
       "   'model__n_estimators': 1000},\n",
       "  {'model__learning_rate': 0.02,\n",
       "   'model__max_depth': 8,\n",
       "   'model__n_estimators': 2500}],\n",
       " 'split0_test_score': array([0.08936809, 0.08543436, 0.08524662, 0.07474849, 0.07796959,\n",
       "        0.06368071, 0.07835521, 0.08758144, 0.08428782, 0.08814484,\n",
       "        0.08530308, 0.08522953, 0.08625013, 0.08933187, 0.0876539 ,\n",
       "        0.0861839 , 0.08574829, 0.08018202]),\n",
       " 'split1_test_score': array([0.09052173, 0.08758207, 0.08616714, 0.07647472, 0.07823649,\n",
       "        0.06407055, 0.0793358 , 0.08916693, 0.08546115, 0.08889284,\n",
       "        0.08667095, 0.086012  , 0.0876369 , 0.09050858, 0.08871974,\n",
       "        0.08657124, 0.08640967, 0.08125003]),\n",
       " 'split2_test_score': array([0.09411321, 0.09039348, 0.08964644, 0.0790895 , 0.08072763,\n",
       "        0.06603956, 0.08190635, 0.09222128, 0.0880749 , 0.09226564,\n",
       "        0.08909803, 0.08836026, 0.09078145, 0.09414626, 0.09188681,\n",
       "        0.08948506, 0.08889832, 0.08225849]),\n",
       " 'mean_test_score': array([0.09133434, 0.0878033 , 0.08702006, 0.0767709 , 0.0789779 ,\n",
       "        0.06459694, 0.07986579, 0.08965655, 0.08594129, 0.08976777,\n",
       "        0.08702402, 0.08653393, 0.08822283, 0.09132891, 0.08942015,\n",
       "        0.0874134 , 0.08701876, 0.08123018]),\n",
       " 'std_test_score': array([0.00202061, 0.00203059, 0.00189477, 0.00178454, 0.00124203,\n",
       "        0.00103243, 0.0014974 , 0.00192559, 0.00158291, 0.00179246,\n",
       "        0.00156927, 0.00133033, 0.00189573, 0.00204928, 0.00179765,\n",
       "        0.0014734 , 0.0013562 , 0.00084783]),\n",
       " 'rank_test_score': array([ 1,  7, 10, 17, 16, 18, 15,  4, 13,  3,  9, 12,  6,  2,  5,  8, 11,\n",
       "        14])}"
      ]
     },
     "execution_count": 53,
     "metadata": {},
     "output_type": "execute_result"
    }
   ],
   "source": [
    "xgboost_tuned_results[4].cv_results_"
   ]
  },
  {
   "cell_type": "code",
   "execution_count": 54,
   "metadata": {},
   "outputs": [
    {
     "data": {
      "text/plain": [
       "{'model__learning_rate': 0.05,\n",
       " 'model__max_depth': 4,\n",
       " 'model__n_estimators': 1000}"
      ]
     },
     "execution_count": 54,
     "metadata": {},
     "output_type": "execute_result"
    }
   ],
   "source": [
    "xgboost_tuned_results[4].best_params_"
   ]
  },
  {
   "cell_type": "code",
   "execution_count": null,
   "metadata": {},
   "outputs": [],
   "source": []
  }
 ],
 "metadata": {
  "kernelspec": {
   "display_name": "Python 3",
   "language": "python",
   "name": "python3"
  },
  "language_info": {
   "codemirror_mode": {
    "name": "ipython",
    "version": 3
   },
   "file_extension": ".py",
   "mimetype": "text/x-python",
   "name": "python",
   "nbconvert_exporter": "python",
   "pygments_lexer": "ipython3",
   "version": "3.8.5"
  }
 },
 "nbformat": 4,
 "nbformat_minor": 4
}
